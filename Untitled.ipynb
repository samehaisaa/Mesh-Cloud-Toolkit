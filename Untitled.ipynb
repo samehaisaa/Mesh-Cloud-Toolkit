{
 "cells": [
  {
   "cell_type": "code",
   "execution_count": 6,
   "id": "b095fcca-bb71-4f3f-baf5-e703efede87a",
   "metadata": {},
   "outputs": [],
   "source": [
    "    output_cloud = \"./data/visage_cloud.ply\"\n"
   ]
  },
  {
   "cell_type": "code",
   "execution_count": 3,
   "id": "2b4da06f-3511-4d4f-84ca-eff32fea4772",
   "metadata": {},
   "outputs": [],
   "source": [
    "import open3d as o3d\n",
    "\n",
    "# Example: Load and visualize a point cloud\n",
    "pcd = o3d.io.read_point_cloud(output_cloud)\n",
    "import copy, sys, os\n",
    "import numpy as np\n",
    "\n",
    "import matplotlib.pyplot as pl\n",
    "\n",
    "import open3d as o3d\n",
    "import laspy\n",
    "\n",
    "o3d.visualization.draw_geometries([pcd])\n"
   ]
  },
  {
   "cell_type": "code",
   "execution_count": 4,
   "id": "85c320f3-0209-464a-a823-59b52a90a8ec",
   "metadata": {},
   "outputs": [],
   "source": [
    "def draw_2pcd(pcd1, pcd2):\n",
    "    pcd1_temp = copy.deepcopy(pcd1)\n",
    "    pcd2_temp = copy.deepcopy(pcd2)\n",
    "    pcd1_temp.paint_uniform_color([1, 0.706, 0]) #orange\n",
    "    pcd2_temp.paint_uniform_color([0, 0.651, 0.929]) #cyan\n",
    "    o3d.visualization.draw_geometries([pcd1_temp, pcd2_temp])\n",
    "\n",
    "def draw_registration_result(source, target, transformation):\n",
    "    source_temp = copy.deepcopy(source)\n",
    "    target_temp = copy.deepcopy(target)\n",
    "    source_temp.paint_uniform_color([1, 0.706, 0]) #orange\n",
    "    target_temp.paint_uniform_color([0, 0.651, 0.929]) #cyan\n",
    "    source_temp.transform(transformation)\n",
    "    o3d.visualization.draw_geometries([source_temp, target_temp])\n",
    "    \n",
    "def get_colors(inp, colormap, vmin=None, vmax=None):\n",
    "    if vmin == None:\n",
    "        vmin=np.nanmin(inp)\n",
    "    if vmax == None:\n",
    "        vmax=np.nanmax(inp)\n",
    "    norm = pl.Normalize(vmin, vmax)\n",
    "    return colormap(norm(inp))\n",
    "\n",
    "def get_colors_log(inp, colormap, vmin=None, vmax=None):\n",
    "    if vmin == None:\n",
    "        vmin=np.nanmin(np.log10(inp))\n",
    "    if vmax == None:\n",
    "        vmax=np.nanmax(np.log10(inp))\n",
    "    norm = pl.Normalize(vmin, vmax)\n",
    "    return colormap(norm(inp))\n"
   ]
  },
  {
   "cell_type": "code",
   "execution_count": 2,
   "id": "0dd57f1f-4feb-43b9-aab2-98da31c0bcf6",
   "metadata": {},
   "outputs": [],
   "source": [
    "    output_cloud = \"./data/visage_cloud.ply\"\n"
   ]
  },
  {
   "cell_type": "code",
   "execution_count": 2,
   "id": "fa002f3e-13b7-4bcc-903f-e0db17f451a5",
   "metadata": {},
   "outputs": [],
   "source": [
    "import open3d as o3d\n",
    "import pyvista as pv\n",
    "import numpy as np\n",
    "import os\n",
    "\n",
    "# Path to your .ply file\n",
    "output_cloud = \"./data/visage_cloud.ply\"\n",
    "\n",
    "# Load the point cloud using Open3D\n",
    "pcd = o3d.io.read_point_cloud(output_cloud)\n",
    "\n",
    "# Convert Open3D point cloud to numpy array (for rotation)\n",
    "xyz = np.asarray(pcd.points)\n",
    "\n",
    "# Define the rotation angle in degrees\n",
    "angle = 45  # Rotation angle\n",
    "theta = np.radians(angle)  # Convert to radians\n",
    "\n",
    "# Rotation matrix for rotating around the Z-axis\n",
    "rotation_matrix = np.array([\n",
    "    [np.cos(theta), -np.sin(theta), 0],\n",
    "    [np.sin(theta), np.cos(theta), 0],\n",
    "    [0, 0, 1]\n",
    "])\n",
    "\n",
    "# Apply the rotation to the point cloud\n",
    "rotated_xyz = xyz @ rotation_matrix.T  # Matrix multiplication for rotation\n",
    "\n",
    "# Create new Open3D point cloud for rotated points\n",
    "rotated_pcd = o3d.geometry.PointCloud()\n",
    "rotated_pcd.points = o3d.utility.Vector3dVector(rotated_xyz)\n",
    "\n",
    "\n",
    "# Visualize both the original and rotated point clouds using Open3D\n",
    "# First, we'll add colors to differentiate them\n",
    "\n",
    "# Visualize both clouds\n",
    "o3d.visualization.draw_geometries([pcd, rotated_pcd])\n"
   ]
  },
  {
   "cell_type": "code",
   "execution_count": 5,
   "id": "26848a62-df82-4012-b804-d74c9d0e927e",
   "metadata": {},
   "outputs": [
    {
     "ename": "ModuleNotFoundError",
     "evalue": "No module named 'open3d.registration'",
     "output_type": "error",
     "traceback": [
      "\u001b[1;31m---------------------------------------------------------------------------\u001b[0m",
      "\u001b[1;31mModuleNotFoundError\u001b[0m                       Traceback (most recent call last)",
      "Cell \u001b[1;32mIn[5], line 10\u001b[0m\n\u001b[0;32m      7\u001b[0m rotated_pcd_downsampled\u001b[38;5;241m.\u001b[39mestimate_normals(o3d\u001b[38;5;241m.\u001b[39mgeometry\u001b[38;5;241m.\u001b[39mKDTreeSearchParamHybrid(radius\u001b[38;5;241m=\u001b[39m\u001b[38;5;241m0.1\u001b[39m, max_nn\u001b[38;5;241m=\u001b[39m\u001b[38;5;241m30\u001b[39m))\n\u001b[0;32m      9\u001b[0m \u001b[38;5;66;03m# Import the registration module explicitly\u001b[39;00m\n\u001b[1;32m---> 10\u001b[0m \u001b[38;5;28;01mfrom\u001b[39;00m \u001b[38;5;21;01mopen3d\u001b[39;00m\u001b[38;5;21;01m.\u001b[39;00m\u001b[38;5;21;01mregistration\u001b[39;00m \u001b[38;5;28;01mimport\u001b[39;00m registration_icp, TransformationEstimationPointToPoint\n\u001b[0;32m     12\u001b[0m \u001b[38;5;66;03m# Apply ICP\u001b[39;00m\n\u001b[0;32m     13\u001b[0m threshold \u001b[38;5;241m=\u001b[39m \u001b[38;5;241m0.02\u001b[39m  \u001b[38;5;66;03m# Maximum distance threshold for ICP\u001b[39;00m\n",
      "\u001b[1;31mModuleNotFoundError\u001b[0m: No module named 'open3d.registration'"
     ]
    }
   ],
   "source": [
    "# Preprocess: Downsample and estimate normals (optional but helpful)\n",
    "pcd_downsampled = pcd.voxel_down_sample(voxel_size=0.05)\n",
    "rotated_pcd_downsampled = rotated_pcd.voxel_down_sample(voxel_size=0.05)\n",
    "\n",
    "# Estimate normals\n",
    "pcd_downsampled.estimate_normals(o3d.geometry.KDTreeSearchParamHybrid(radius=0.1, max_nn=30))\n",
    "rotated_pcd_downsampled.estimate_normals(o3d.geometry.KDTreeSearchParamHybrid(radius=0.1, max_nn=30))\n",
    "\n",
    "# Import the registration module explicitly\n",
    "from open3d.registration import registration_icp, TransformationEstimationPointToPoint\n",
    "\n",
    "# Apply ICP\n",
    "threshold = 0.02  # Maximum distance threshold for ICP\n",
    "icp_result = registration_icp(\n",
    "    rotated_pcd_downsampled, pcd_downsampled, threshold,\n",
    "    np.eye(4),  # Initial transformation (identity matrix)\n",
    "    TransformationEstimationPointToPoint()\n",
    ")\n",
    "\n",
    "# The result is a transformation matrix\n",
    "print(\"ICP transformation matrix:\")\n",
    "print(icp_result.transformation)\n",
    "\n",
    "# Apply the transformation to the rotated point cloud\n",
    "aligned_rotated_pcd = rotated_pcd_downsampled.transform(icp_result.transformation)\n",
    "\n",
    "# Visualize the aligned clouds\n",
    "aligned_rotated_pcd.paint_uniform_color([0.0, 1.0, 0.0])  # Green color for aligned point cloud\n",
    "o3d.visualization.draw_geometries([pcd_downsampled, aligned_rotated_pcd])\n",
    "\n"
   ]
  }
 ],
 "metadata": {
  "kernelspec": {
   "display_name": "Python 3 (ipykernel)",
   "language": "python",
   "name": "python3"
  },
  "language_info": {
   "codemirror_mode": {
    "name": "ipython",
    "version": 3
   },
   "file_extension": ".py",
   "mimetype": "text/x-python",
   "name": "python",
   "nbconvert_exporter": "python",
   "pygments_lexer": "ipython3",
   "version": "3.10.16"
  }
 },
 "nbformat": 4,
 "nbformat_minor": 5
}
