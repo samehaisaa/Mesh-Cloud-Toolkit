{
 "cells": [
  {
   "cell_type": "code",
   "execution_count": 6,
   "id": "b095fcca-bb71-4f3f-baf5-e703efede87a",
   "metadata": {},
   "outputs": [],
   "source": [
    "    output_cloud = \"./data/visage_cloud.ply\"\n"
   ]
  },
  {
   "cell_type": "code",
   "execution_count": 3,
   "id": "2b4da06f-3511-4d4f-84ca-eff32fea4772",
   "metadata": {},
   "outputs": [],
   "source": [
    "import open3d as o3d\n",
    "\n",
    "# Example: Load and visualize a point cloud\n",
    "pcd = o3d.io.read_point_cloud(output_cloud)\n",
    "import copy, sys, os\n",
    "import numpy as np\n",
    "\n",
    "import matplotlib.pyplot as pl\n",
    "\n",
    "import open3d as o3d\n",
    "import laspy\n",
    "\n",
    "o3d.visualization.draw_geometries([pcd])\n"
   ]
  },
  {
   "cell_type": "code",
   "execution_count": 4,
   "id": "85c320f3-0209-464a-a823-59b52a90a8ec",
   "metadata": {},
   "outputs": [],
   "source": [
    "def draw_2pcd(pcd1, pcd2):\n",
    "    pcd1_temp = copy.deepcopy(pcd1)\n",
    "    pcd2_temp = copy.deepcopy(pcd2)\n",
    "    pcd1_temp.paint_uniform_color([1, 0.706, 0]) #orange\n",
    "    pcd2_temp.paint_uniform_color([0, 0.651, 0.929]) #cyan\n",
    "    o3d.visualization.draw_geometries([pcd1_temp, pcd2_temp])\n",
    "\n",
    "def draw_registration_result(source, target, transformation):\n",
    "    source_temp = copy.deepcopy(source)\n",
    "    target_temp = copy.deepcopy(target)\n",
    "    source_temp.paint_uniform_color([1, 0.706, 0]) #orange\n",
    "    target_temp.paint_uniform_color([0, 0.651, 0.929]) #cyan\n",
    "    source_temp.transform(transformation)\n",
    "    o3d.visualization.draw_geometries([source_temp, target_temp])\n",
    "    \n",
    "def get_colors(inp, colormap, vmin=None, vmax=None):\n",
    "    if vmin == None:\n",
    "        vmin=np.nanmin(inp)\n",
    "    if vmax == None:\n",
    "        vmax=np.nanmax(inp)\n",
    "    norm = pl.Normalize(vmin, vmax)\n",
    "    return colormap(norm(inp))\n",
    "\n",
    "def get_colors_log(inp, colormap, vmin=None, vmax=None):\n",
    "    if vmin == None:\n",
    "        vmin=np.nanmin(np.log10(inp))\n",
    "    if vmax == None:\n",
    "        vmax=np.nanmax(np.log10(inp))\n",
    "    norm = pl.Normalize(vmin, vmax)\n",
    "    return colormap(norm(inp))\n"
   ]
  },
  {
   "cell_type": "code",
   "execution_count": 2,
   "id": "0dd57f1f-4feb-43b9-aab2-98da31c0bcf6",
   "metadata": {},
   "outputs": [],
   "source": [
    "    output_cloud = \"./data/visage_cloud.ply\"\n"
   ]
  },
  {
   "cell_type": "code",
   "execution_count": null,
   "id": "fa002f3e-13b7-4bcc-903f-e0db17f451a5",
   "metadata": {},
   "outputs": [],
   "source": [
    "import open3d as o3d\n",
    "import pyvista as pv\n",
    "import numpy as np\n",
    "import os\n",
    "\n",
    "# Path to your .ply file\n",
    "output_cloud = \"./data/visage_cloud.ply\"\n",
    "\n",
    "# Load the point cloud using Open3D\n",
    "pcd = o3d.io.read_point_cloud(output_cloud)\n",
    "\n",
    "# Convert Open3D point cloud to numpy array (for rotation)\n",
    "xyz = np.asarray(pcd.points)\n",
    "\n",
    "# Define the rotation angle in degrees\n",
    "angle = 45  # Rotation angle\n",
    "theta = np.radians(angle)  # Convert to radians\n",
    "\n",
    "# Rotation matrix for rotating around the Z-axis\n",
    "rotation_matrix = np.array([\n",
    "    [np.cos(theta), -np.sin(theta), 0],\n",
    "    [np.sin(theta), np.cos(theta), 0],\n",
    "    [0, 0, 1]\n",
    "])\n",
    "\n",
    "# Apply the rotation to the point cloud\n",
    "rotated_xyz = xyz @ rotation_matrix.T  # Matrix multiplication for rotation\n",
    "\n",
    "# Create new Open3D point cloud for rotated points\n",
    "rotated_pcd = o3d.geometry.PointCloud()\n",
    "rotated_pcd.points = o3d.utility.Vector3dVector(rotated_xyz)\n",
    "\n",
    "# Visualize both the original and rotated point clouds using Open3D\n",
    "# First, we'll add colors to differentiate them\n",
    "\n",
    "# Visualize both clouds\n",
    "o3d.visualization.draw_geometries([pcd, rotated_pcd])\n"
   ]
  }
 ],
 "metadata": {
  "kernelspec": {
   "display_name": "Python 3 (ipykernel)",
   "language": "python",
   "name": "python3"
  },
  "language_info": {
   "codemirror_mode": {
    "name": "ipython",
    "version": 3
   },
   "file_extension": ".py",
   "mimetype": "text/x-python",
   "name": "python",
   "nbconvert_exporter": "python",
   "pygments_lexer": "ipython3",
   "version": "3.10.16"
  }
 },
 "nbformat": 4,
 "nbformat_minor": 5
}
